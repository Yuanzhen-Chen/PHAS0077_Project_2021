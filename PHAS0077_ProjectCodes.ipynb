{
 "cells": [
  {
   "cell_type": "markdown",
   "metadata": {},
   "source": [
    "# Data cleaning & ML methods"
   ]
  },
  {
   "cell_type": "code",
   "execution_count": 1,
   "metadata": {},
   "outputs": [],
   "source": [
    "import csv\n",
    "import pandas as pd\n",
    "import numpy as np\n",
    "from matplotlib import pyplot as plt\n",
    "from sklearn.metrics import accuracy_score, precision_score, recall_score, f1_score\n",
    "from sklearn.model_selection import GridSearchCV"
   ]
  },
  {
   "cell_type": "markdown",
   "metadata": {},
   "source": [
    "## Some useful functions"
   ]
  },
  {
   "cell_type": "code",
   "execution_count": 3,
   "metadata": {},
   "outputs": [],
   "source": [
    "def get_titles(path):\n",
    "    # Get the variables' names of a dataset as a list\n",
    "    with open(path, 'r') as f:\n",
    "        reader = csv.reader(f)\n",
    "        result = list(reader)\n",
    "        result = result[0]  # First line of the dataset\n",
    "        result = [x.lower() for x in result]\n",
    "    return result\n",
    "\n",
    "\n",
    "\n",
    "def check_variables(titles, var_list):\n",
    "    # Check if the items in var_list also exist in titles\n",
    "    for i in var_list:\n",
    "        i = str(i)\n",
    "        if (i not in titles):\n",
    "            raise Exception('File does not contain ' + str(i))\n",
    "\n",
    "\n",
    "\n",
    "\n",
    "def load_CMS(year=2014, version='full', cleaning=True):\n",
    "    '''\n",
    "    To load the CMS Medicare data for the year indicated in the argument.\n",
    "    \n",
    "    Descriptions of the arguments:\n",
    "        year: predicting year, from 2012 to 2015, default value is 2014\n",
    "        version: could select to load full version data(default) or short vertion data\n",
    "        cleaning: binary variable, if True will clean the data\n",
    "    '''\n",
    "    path = r'Medicare_Provider_Util_Payment_PUF_CY' + str(year) + '.csv'\n",
    "    if version == 'short':\n",
    "        path = r'Medicare_Provider_Util_Payment_PUF_CY' + str(year) + '_short.csv'\n",
    "    #titles = get_titles(path)\n",
    "    var_list = ['npi', 'nppes_provider_gender', 'nppes_provider_state', 'nppes_provider_zip']\n",
    "    #check_variables(titles, var_list)\n",
    "    data = pd.read_csv(path)\n",
    "    data.columns = [x.lower() for x in data.columns]\n",
    "    data = pd.DataFrame(data, columns=var_list)\n",
    "    if cleaning == True:\n",
    "        data['npi'] = data['npi'].apply(str)\n",
    "        data['nppes_provider_zip'] = data['nppes_provider_zip'].apply(str)\n",
    "    return data\n",
    "\n",
    "\n",
    "\n",
    "\n",
    "def load_GIdata(year=2014):\n",
    "    '''\n",
    "    To load the physician characteristics dataset\n",
    "    \n",
    "    Descriptions of the arguments:\n",
    "        year: predicting year, from 2012 to 2015, default value is 2014\n",
    "    '''\n",
    "    path = r'physician_integration_gi_2005_2015.csv'\n",
    "    #titles = get_titles(path)\n",
    "    var_list = ['npi', 'year', 'claim_office', 'claim_inpatient', 'claim_outpatient', 'claim_asc', 'claim_total', 'ind_integrate']\n",
    "    #check_variables(titles, var_list)\n",
    "    data = pd.read_csv(path, usecols=var_list)\n",
    "    # Specialty data cleaning\n",
    "    data['npi'] = data['npi'].apply(str)\n",
    "    data = data[data['year']==year]\n",
    "    return data\n",
    "\n",
    "\n",
    "\n",
    "\n",
    "def choose_var(dataset):\n",
    "    if with_claims == True:\n",
    "        # Variables for claim-based models\n",
    "        var = pd.DataFrame(dataset, columns=[ 'claim_office', 'claim_inpatient', 'claim_outpatient', 'claim_asc','claim_total', 'RUCC_2013', \n",
    "                                                  'Years_of_Working', 'ind_integrate'])\n",
    "    else:\n",
    "        # Variables for claim-free models\n",
    "        var = pd.DataFrame(dataset, columns=['RUCC_2013', 'Years_of_Working', 'ind_integrate'])\n",
    "    return var\n",
    "\n",
    "\n",
    "\n",
    "# Use Lin Reg model to predict y\n",
    "# If cutoff = 0.9, y_hat > 0.9 means vertically integrated, y_hat <= 0.9 otherwise\n",
    "def lin_pred(X, cutoff=0.9):\n",
    "    y_lin = lin_reg.predict(X)\n",
    "    pred = []\n",
    "    for i in y_lin:\n",
    "        ind = 1\n",
    "        if i < cutoff:\n",
    "            ind = 0\n",
    "        pred.append(ind)\n",
    "    return pred\n",
    "\n",
    "\n",
    "\n",
    "# Compute Variance Inflation Factor (VIF)\n",
    "def vif(df, col_i):\n",
    "    '''\n",
    "    df: dataset\n",
    "    col_i：variable\n",
    "    '''\n",
    "    cols = list(df.columns)\n",
    "    cols.remove(col_i)\n",
    "    cols_noti = cols\n",
    "    formula = col_i + '~' + '+'.join(cols_noti)\n",
    "    r2 = ols(formula, df).fit().rsquared\n",
    "    return 1. / (1. - r2)\n",
    "\n",
    "\n",
    "\n",
    "# Compute and print accuracy, precision, recall and f1 scores\n",
    "def print_scores(y_pred_train, y_pred_test, method):\n",
    "    print(method + ':')\n",
    "    print('Accuracy: training set %.4f, testing set %.4f' %(accuracy_score(list(y_train), y_pred_train), \n",
    "                                                            accuracy_score(list(y_test), y_pred_test)))\n",
    "    print('Precision: training set %.4f, testing set %.4f' %(precision_score(list(y_train), y_pred_train), \n",
    "                                                             precision_score(list(y_test), y_pred_test)))\n",
    "    print('Recall: training set %.4f, testing set %.4f' %(recall_score(list(y_train), y_pred_train),\n",
    "                                                          recall_score(list(y_test), y_pred_test)))\n",
    "    print('F1 score: training set %.4f, testing set %.4f' %(f1_score(list(y_train), y_pred_train), \n",
    "                                                            f1_score(list(y_test), y_pred_test)))\n",
    "    \n",
    "    \n",
    "\n"
   ]
  },
  {
   "cell_type": "markdown",
   "metadata": {},
   "source": [
    "## Data pre-loading"
   ]
  },
  {
   "cell_type": "code",
   "execution_count": 4,
   "metadata": {},
   "outputs": [],
   "source": [
    "# Load NPPES provider data\n",
    "import datetime\n",
    "path = r'npidata_20050523-20100208.csv'\n",
    "#titles = get_titles(path)\n",
    "var_list = ['NPI', 'Provider Enumeration Date']\n",
    "#check_variables(titles, var_list)\n",
    "NPPES_npidata = pd.read_csv(path, usecols=var_list)   # Load provider data\n",
    "\n",
    "\n",
    "\n",
    "# Separate provider enumeration date\n",
    "NPPES_npidata[\"Provider Enumeration Date\"]= pd.to_datetime(NPPES_npidata['Provider Enumeration Date'],errors='coerce')\n",
    "EnumerationYear = NPPES_npidata['Provider Enumeration Date'].dt.year.fillna(0).astype(\"int\")\n",
    "NPPES_npidata['NPI'] = NPPES_npidata['NPI'].apply(str)"
   ]
  },
  {
   "cell_type": "code",
   "execution_count": 5,
   "metadata": {},
   "outputs": [
    {
     "name": "stdout",
     "output_type": "stream",
     "text": [
      "Merge zip code and RUCC by Fips and create dataframe zipRUCC:\n"
     ]
    },
    {
     "data": {
      "text/html": [
       "<div>\n",
       "<style scoped>\n",
       "    .dataframe tbody tr th:only-of-type {\n",
       "        vertical-align: middle;\n",
       "    }\n",
       "\n",
       "    .dataframe tbody tr th {\n",
       "        vertical-align: top;\n",
       "    }\n",
       "\n",
       "    .dataframe thead th {\n",
       "        text-align: right;\n",
       "    }\n",
       "</style>\n",
       "<table border=\"1\" class=\"dataframe\">\n",
       "  <thead>\n",
       "    <tr style=\"text-align: right;\">\n",
       "      <th></th>\n",
       "      <th>FIPS</th>\n",
       "      <th>nppes_provider_zip</th>\n",
       "      <th>RUCC_2013</th>\n",
       "    </tr>\n",
       "  </thead>\n",
       "  <tbody>\n",
       "    <tr>\n",
       "      <th>0</th>\n",
       "      <td>10001</td>\n",
       "      <td>36061</td>\n",
       "      <td>3</td>\n",
       "    </tr>\n",
       "    <tr>\n",
       "      <th>1</th>\n",
       "      <td>10003</td>\n",
       "      <td>36061</td>\n",
       "      <td>1</td>\n",
       "    </tr>\n",
       "    <tr>\n",
       "      <th>2</th>\n",
       "      <td>10005</td>\n",
       "      <td>36061</td>\n",
       "      <td>2</td>\n",
       "    </tr>\n",
       "    <tr>\n",
       "      <th>3</th>\n",
       "      <td>11001</td>\n",
       "      <td>36059</td>\n",
       "      <td>1</td>\n",
       "    </tr>\n",
       "    <tr>\n",
       "      <th>4</th>\n",
       "      <td>12007</td>\n",
       "      <td>36001</td>\n",
       "      <td>6</td>\n",
       "    </tr>\n",
       "  </tbody>\n",
       "</table>\n",
       "</div>"
      ],
      "text/plain": [
       "    FIPS nppes_provider_zip  RUCC_2013\n",
       "0  10001              36061          3\n",
       "1  10003              36061          1\n",
       "2  10005              36061          2\n",
       "3  11001              36059          1\n",
       "4  12007              36001          6"
      ]
     },
     "execution_count": 5,
     "metadata": {},
     "output_type": "execute_result"
    }
   ],
   "source": [
    "# Transpose zipfips file\n",
    "zipfips_file = pd.read_csv(r'zipfips.csv')\n",
    "zipfips = zipfips_file.values \n",
    "index1 = list(zipfips_file.keys())\n",
    "zipfips = list(map(list, zip(*zipfips)))\n",
    "zipfips = pd.DataFrame(zipfips, index=index1)  # Transposed\n",
    "zipfips.to_csv(r'zipfips_new.csv')\n",
    "\n",
    "\n",
    "\n",
    "# Load ruralurbancodes (file that convert fips to RUCC)\n",
    "path = r'ruralurbancodes2013.xls'\n",
    "#titles = get_titles(path)\n",
    "var_list = ['FIPS', 'RUCC_2013']\n",
    "#check_variables(titles, var_list)\n",
    "fipsRUCC = pd.read_excel(path, usecols=var_list)\n",
    "fipsRUCC['FIPS'] = fipsRUCC['FIPS'].apply(str)\n",
    "\n",
    "\n",
    "\n",
    "# Load zipfips (file that converts zip code to fips)\n",
    "path = r'zipfips_new.csv'\n",
    "#titles = get_titles(path)\n",
    "var_list = ['FIPS', 'nppes_provider_zip']\n",
    "#check_variables(titles, var_list)\n",
    "zipfips = pd.read_csv(path)\n",
    "zipfips.columns = var_list\n",
    "zipfips['FIPS'] = zipfips['FIPS'].apply(str)\n",
    "zipfips['nppes_provider_zip'] = zipfips['nppes_provider_zip'].apply(str)\n",
    "\n",
    "\n",
    "\n",
    "# Merge zip code and RUCC by fips (create a dataset that converts zip to RUCC)\n",
    "zipRUCC = pd.merge(zipfips, fipsRUCC, on='FIPS', sort=False, copy=False)\n",
    "print('Merge zip code and RUCC by Fips and create dataframe zipRUCC:')\n",
    "zipRUCC.head()"
   ]
  },
  {
   "cell_type": "markdown",
   "metadata": {},
   "source": [
    "## Data cleaning and merging"
   ]
  },
  {
   "cell_type": "code",
   "execution_count": 6,
   "metadata": {},
   "outputs": [],
   "source": [
    "# Initialization\n",
    "\n",
    "year = 2014  # The predicting year, range from 2012 to 2015\n",
    "with_claims = False # If true: create claim-based model; if false: create claim-free model"
   ]
  },
  {
   "cell_type": "markdown",
   "metadata": {},
   "source": [
    "### CMS data"
   ]
  },
  {
   "cell_type": "code",
   "execution_count": 7,
   "metadata": {},
   "outputs": [
    {
     "name": "stderr",
     "output_type": "stream",
     "text": [
      "G:\\ucl\\Softwares\\Python\\lib\\site-packages\\IPython\\core\\interactiveshell.py:3263: DtypeWarning: Columns (12) have mixed types.Specify dtype option on import or set low_memory=False.\n",
      "  if (await self.run_code(code, result,  async_=asy)):\n"
     ]
    },
    {
     "data": {
      "text/html": [
       "<div>\n",
       "<style scoped>\n",
       "    .dataframe tbody tr th:only-of-type {\n",
       "        vertical-align: middle;\n",
       "    }\n",
       "\n",
       "    .dataframe tbody tr th {\n",
       "        vertical-align: top;\n",
       "    }\n",
       "\n",
       "    .dataframe thead th {\n",
       "        text-align: right;\n",
       "    }\n",
       "</style>\n",
       "<table border=\"1\" class=\"dataframe\">\n",
       "  <thead>\n",
       "    <tr style=\"text-align: right;\">\n",
       "      <th></th>\n",
       "      <th>npi</th>\n",
       "      <th>nppes_provider_gender</th>\n",
       "      <th>nppes_provider_state</th>\n",
       "      <th>nppes_provider_zip</th>\n",
       "    </tr>\n",
       "  </thead>\n",
       "  <tbody>\n",
       "    <tr>\n",
       "      <th>0</th>\n",
       "      <td>1</td>\n",
       "      <td>NaN</td>\n",
       "      <td>NaN</td>\n",
       "      <td>nan</td>\n",
       "    </tr>\n",
       "    <tr>\n",
       "      <th>1</th>\n",
       "      <td>1003000126</td>\n",
       "      <td>M</td>\n",
       "      <td>MD</td>\n",
       "      <td>215021854.0</td>\n",
       "    </tr>\n",
       "    <tr>\n",
       "      <th>2</th>\n",
       "      <td>1003000126</td>\n",
       "      <td>M</td>\n",
       "      <td>MD</td>\n",
       "      <td>215021854.0</td>\n",
       "    </tr>\n",
       "    <tr>\n",
       "      <th>3</th>\n",
       "      <td>1003000126</td>\n",
       "      <td>M</td>\n",
       "      <td>MD</td>\n",
       "      <td>215021854.0</td>\n",
       "    </tr>\n",
       "    <tr>\n",
       "      <th>4</th>\n",
       "      <td>1003000126</td>\n",
       "      <td>M</td>\n",
       "      <td>MD</td>\n",
       "      <td>215021854.0</td>\n",
       "    </tr>\n",
       "  </tbody>\n",
       "</table>\n",
       "</div>"
      ],
      "text/plain": [
       "          npi nppes_provider_gender nppes_provider_state nppes_provider_zip\n",
       "0           1                   NaN                  NaN                nan\n",
       "1  1003000126                     M                   MD        215021854.0\n",
       "2  1003000126                     M                   MD        215021854.0\n",
       "3  1003000126                     M                   MD        215021854.0\n",
       "4  1003000126                     M                   MD        215021854.0"
      ]
     },
     "execution_count": 7,
     "metadata": {},
     "output_type": "execute_result"
    }
   ],
   "source": [
    "# Medicare Util & payment data\n",
    "# Load and clean short version CMS data\n",
    "util_payment = load_CMS(year=year, version='short', cleaning=True)\n",
    "util_payment.head()"
   ]
  },
  {
   "cell_type": "code",
   "execution_count": 9,
   "metadata": {},
   "outputs": [
    {
     "data": {
      "text/html": [
       "<div>\n",
       "<style scoped>\n",
       "    .dataframe tbody tr th:only-of-type {\n",
       "        vertical-align: middle;\n",
       "    }\n",
       "\n",
       "    .dataframe tbody tr th {\n",
       "        vertical-align: top;\n",
       "    }\n",
       "\n",
       "    .dataframe thead th {\n",
       "        text-align: right;\n",
       "    }\n",
       "</style>\n",
       "<table border=\"1\" class=\"dataframe\">\n",
       "  <thead>\n",
       "    <tr style=\"text-align: right;\">\n",
       "      <th></th>\n",
       "      <th>npi</th>\n",
       "      <th>year</th>\n",
       "      <th>claim_office</th>\n",
       "      <th>claim_inpatient</th>\n",
       "      <th>claim_outpatient</th>\n",
       "      <th>claim_asc</th>\n",
       "      <th>claim_total</th>\n",
       "      <th>ind_integrate</th>\n",
       "    </tr>\n",
       "  </thead>\n",
       "  <tbody>\n",
       "    <tr>\n",
       "      <th>16</th>\n",
       "      <td>1003011578</td>\n",
       "      <td>2014</td>\n",
       "      <td>49</td>\n",
       "      <td>52</td>\n",
       "      <td>25</td>\n",
       "      <td>22</td>\n",
       "      <td>96.0</td>\n",
       "      <td>1</td>\n",
       "    </tr>\n",
       "    <tr>\n",
       "      <th>18</th>\n",
       "      <td>1003011891</td>\n",
       "      <td>2014</td>\n",
       "      <td>28</td>\n",
       "      <td>21</td>\n",
       "      <td>10</td>\n",
       "      <td>0</td>\n",
       "      <td>38.0</td>\n",
       "      <td>1</td>\n",
       "    </tr>\n",
       "    <tr>\n",
       "      <th>21</th>\n",
       "      <td>1003011982</td>\n",
       "      <td>2014</td>\n",
       "      <td>48</td>\n",
       "      <td>60</td>\n",
       "      <td>1</td>\n",
       "      <td>0</td>\n",
       "      <td>49.0</td>\n",
       "      <td>0</td>\n",
       "    </tr>\n",
       "    <tr>\n",
       "      <th>24</th>\n",
       "      <td>1003013210</td>\n",
       "      <td>2014</td>\n",
       "      <td>0</td>\n",
       "      <td>81</td>\n",
       "      <td>31</td>\n",
       "      <td>0</td>\n",
       "      <td>31.0</td>\n",
       "      <td>1</td>\n",
       "    </tr>\n",
       "    <tr>\n",
       "      <th>31</th>\n",
       "      <td>1003025032</td>\n",
       "      <td>2014</td>\n",
       "      <td>7</td>\n",
       "      <td>17</td>\n",
       "      <td>40</td>\n",
       "      <td>1</td>\n",
       "      <td>48.0</td>\n",
       "      <td>1</td>\n",
       "    </tr>\n",
       "  </tbody>\n",
       "</table>\n",
       "</div>"
      ],
      "text/plain": [
       "           npi  year  claim_office  claim_inpatient  claim_outpatient  \\\n",
       "16  1003011578  2014            49               52                25   \n",
       "18  1003011891  2014            28               21                10   \n",
       "21  1003011982  2014            48               60                 1   \n",
       "24  1003013210  2014             0               81                31   \n",
       "31  1003025032  2014             7               17                40   \n",
       "\n",
       "    claim_asc  claim_total  ind_integrate  \n",
       "16         22         96.0              1  \n",
       "18          0         38.0              1  \n",
       "21          0         49.0              0  \n",
       "24          0         31.0              1  \n",
       "31          1         48.0              1  "
      ]
     },
     "execution_count": 9,
     "metadata": {},
     "output_type": "execute_result"
    }
   ],
   "source": [
    "# Specialty data\n",
    "physician_integration_gi = load_GIdata(year=year)\n",
    "physician_integration_gi.head()"
   ]
  },
  {
   "cell_type": "code",
   "execution_count": 10,
   "metadata": {},
   "outputs": [
    {
     "data": {
      "text/html": [
       "<div>\n",
       "<style scoped>\n",
       "    .dataframe tbody tr th:only-of-type {\n",
       "        vertical-align: middle;\n",
       "    }\n",
       "\n",
       "    .dataframe tbody tr th {\n",
       "        vertical-align: top;\n",
       "    }\n",
       "\n",
       "    .dataframe thead th {\n",
       "        text-align: right;\n",
       "    }\n",
       "</style>\n",
       "<table border=\"1\" class=\"dataframe\">\n",
       "  <thead>\n",
       "    <tr style=\"text-align: right;\">\n",
       "      <th></th>\n",
       "      <th>npi</th>\n",
       "      <th>year</th>\n",
       "      <th>claim_office</th>\n",
       "      <th>claim_inpatient</th>\n",
       "      <th>claim_outpatient</th>\n",
       "      <th>claim_asc</th>\n",
       "      <th>claim_total</th>\n",
       "      <th>ind_integrate</th>\n",
       "      <th>nppes_provider_gender</th>\n",
       "      <th>nppes_provider_state</th>\n",
       "      <th>nppes_provider_zip</th>\n",
       "    </tr>\n",
       "  </thead>\n",
       "  <tbody>\n",
       "    <tr>\n",
       "      <th>0</th>\n",
       "      <td>1003011578</td>\n",
       "      <td>2014</td>\n",
       "      <td>49</td>\n",
       "      <td>52</td>\n",
       "      <td>25</td>\n",
       "      <td>22</td>\n",
       "      <td>96.0</td>\n",
       "      <td>1</td>\n",
       "      <td>F</td>\n",
       "      <td>NC</td>\n",
       "      <td>286015057.0</td>\n",
       "    </tr>\n",
       "    <tr>\n",
       "      <th>1</th>\n",
       "      <td>1003011578</td>\n",
       "      <td>2014</td>\n",
       "      <td>49</td>\n",
       "      <td>52</td>\n",
       "      <td>25</td>\n",
       "      <td>22</td>\n",
       "      <td>96.0</td>\n",
       "      <td>1</td>\n",
       "      <td>F</td>\n",
       "      <td>NC</td>\n",
       "      <td>286015057.0</td>\n",
       "    </tr>\n",
       "    <tr>\n",
       "      <th>2</th>\n",
       "      <td>1003011578</td>\n",
       "      <td>2014</td>\n",
       "      <td>49</td>\n",
       "      <td>52</td>\n",
       "      <td>25</td>\n",
       "      <td>22</td>\n",
       "      <td>96.0</td>\n",
       "      <td>1</td>\n",
       "      <td>F</td>\n",
       "      <td>NC</td>\n",
       "      <td>286015057.0</td>\n",
       "    </tr>\n",
       "    <tr>\n",
       "      <th>3</th>\n",
       "      <td>1003011578</td>\n",
       "      <td>2014</td>\n",
       "      <td>49</td>\n",
       "      <td>52</td>\n",
       "      <td>25</td>\n",
       "      <td>22</td>\n",
       "      <td>96.0</td>\n",
       "      <td>1</td>\n",
       "      <td>F</td>\n",
       "      <td>NC</td>\n",
       "      <td>286015057.0</td>\n",
       "    </tr>\n",
       "    <tr>\n",
       "      <th>4</th>\n",
       "      <td>1003011578</td>\n",
       "      <td>2014</td>\n",
       "      <td>49</td>\n",
       "      <td>52</td>\n",
       "      <td>25</td>\n",
       "      <td>22</td>\n",
       "      <td>96.0</td>\n",
       "      <td>1</td>\n",
       "      <td>F</td>\n",
       "      <td>NC</td>\n",
       "      <td>286015057.0</td>\n",
       "    </tr>\n",
       "  </tbody>\n",
       "</table>\n",
       "</div>"
      ],
      "text/plain": [
       "          npi  year  claim_office  claim_inpatient  claim_outpatient  \\\n",
       "0  1003011578  2014            49               52                25   \n",
       "1  1003011578  2014            49               52                25   \n",
       "2  1003011578  2014            49               52                25   \n",
       "3  1003011578  2014            49               52                25   \n",
       "4  1003011578  2014            49               52                25   \n",
       "\n",
       "   claim_asc  claim_total  ind_integrate nppes_provider_gender  \\\n",
       "0         22         96.0              1                     F   \n",
       "1         22         96.0              1                     F   \n",
       "2         22         96.0              1                     F   \n",
       "3         22         96.0              1                     F   \n",
       "4         22         96.0              1                     F   \n",
       "\n",
       "  nppes_provider_state nppes_provider_zip  \n",
       "0                   NC        286015057.0  \n",
       "1                   NC        286015057.0  \n",
       "2                   NC        286015057.0  \n",
       "3                   NC        286015057.0  \n",
       "4                   NC        286015057.0  "
      ]
     },
     "execution_count": 10,
     "metadata": {},
     "output_type": "execute_result"
    }
   ],
   "source": [
    "# Merge specialty data and Medicare data\n",
    "CMS_data = pd.merge(physician_integration_gi, util_payment, on='npi', sort=False, copy=False)\n",
    "CMS_data.head()"
   ]
  },
  {
   "cell_type": "markdown",
   "metadata": {},
   "source": [
    "### NPPES provider data"
   ]
  },
  {
   "cell_type": "code",
   "execution_count": 11,
   "metadata": {},
   "outputs": [
    {
     "data": {
      "text/html": [
       "<div>\n",
       "<style scoped>\n",
       "    .dataframe tbody tr th:only-of-type {\n",
       "        vertical-align: middle;\n",
       "    }\n",
       "\n",
       "    .dataframe tbody tr th {\n",
       "        vertical-align: top;\n",
       "    }\n",
       "\n",
       "    .dataframe thead th {\n",
       "        text-align: right;\n",
       "    }\n",
       "</style>\n",
       "<table border=\"1\" class=\"dataframe\">\n",
       "  <thead>\n",
       "    <tr style=\"text-align: right;\">\n",
       "      <th></th>\n",
       "      <th>NPI</th>\n",
       "      <th>Provider Enumeration Date</th>\n",
       "      <th>Years_of_Working</th>\n",
       "    </tr>\n",
       "  </thead>\n",
       "  <tbody>\n",
       "    <tr>\n",
       "      <th>0</th>\n",
       "      <td>1679576722</td>\n",
       "      <td>2005-05-23</td>\n",
       "      <td>9</td>\n",
       "    </tr>\n",
       "    <tr>\n",
       "      <th>1</th>\n",
       "      <td>1588667638</td>\n",
       "      <td>2005-05-23</td>\n",
       "      <td>9</td>\n",
       "    </tr>\n",
       "    <tr>\n",
       "      <th>2</th>\n",
       "      <td>1497758544</td>\n",
       "      <td>2005-05-23</td>\n",
       "      <td>9</td>\n",
       "    </tr>\n",
       "    <tr>\n",
       "      <th>3</th>\n",
       "      <td>1306849450</td>\n",
       "      <td>2005-05-23</td>\n",
       "      <td>9</td>\n",
       "    </tr>\n",
       "    <tr>\n",
       "      <th>4</th>\n",
       "      <td>1215930367</td>\n",
       "      <td>2005-05-23</td>\n",
       "      <td>9</td>\n",
       "    </tr>\n",
       "  </tbody>\n",
       "</table>\n",
       "</div>"
      ],
      "text/plain": [
       "          NPI Provider Enumeration Date  Years_of_Working\n",
       "0  1679576722                2005-05-23                 9\n",
       "1  1588667638                2005-05-23                 9\n",
       "2  1497758544                2005-05-23                 9\n",
       "3  1306849450                2005-05-23                 9\n",
       "4  1215930367                2005-05-23                 9"
      ]
     },
     "execution_count": 11,
     "metadata": {},
     "output_type": "execute_result"
    }
   ],
   "source": [
    "# Compute years of experience\n",
    "NPPES_npidata['Years_of_Working'] = year - EnumerationYear\n",
    "NPPES_npidata.head()"
   ]
  },
  {
   "cell_type": "markdown",
   "metadata": {},
   "source": [
    "### Merge CMS data and NPPES data"
   ]
  },
  {
   "cell_type": "code",
   "execution_count": 12,
   "metadata": {},
   "outputs": [
    {
     "data": {
      "text/html": [
       "<div>\n",
       "<style scoped>\n",
       "    .dataframe tbody tr th:only-of-type {\n",
       "        vertical-align: middle;\n",
       "    }\n",
       "\n",
       "    .dataframe tbody tr th {\n",
       "        vertical-align: top;\n",
       "    }\n",
       "\n",
       "    .dataframe thead th {\n",
       "        text-align: right;\n",
       "    }\n",
       "</style>\n",
       "<table border=\"1\" class=\"dataframe\">\n",
       "  <thead>\n",
       "    <tr style=\"text-align: right;\">\n",
       "      <th></th>\n",
       "      <th>npi</th>\n",
       "      <th>year</th>\n",
       "      <th>claim_office</th>\n",
       "      <th>claim_inpatient</th>\n",
       "      <th>claim_outpatient</th>\n",
       "      <th>claim_asc</th>\n",
       "      <th>claim_total</th>\n",
       "      <th>ind_integrate</th>\n",
       "      <th>nppes_provider_gender</th>\n",
       "      <th>nppes_provider_state</th>\n",
       "      <th>nppes_provider_zip</th>\n",
       "      <th>FIPS</th>\n",
       "      <th>RUCC_2013</th>\n",
       "      <th>NPI</th>\n",
       "      <th>Provider Enumeration Date</th>\n",
       "      <th>Years_of_Working</th>\n",
       "    </tr>\n",
       "  </thead>\n",
       "  <tbody>\n",
       "    <tr>\n",
       "      <th>0</th>\n",
       "      <td>1003835299</td>\n",
       "      <td>2014</td>\n",
       "      <td>19</td>\n",
       "      <td>31</td>\n",
       "      <td>61</td>\n",
       "      <td>0</td>\n",
       "      <td>80.0</td>\n",
       "      <td>1</td>\n",
       "      <td>M</td>\n",
       "      <td>MD</td>\n",
       "      <td>21093</td>\n",
       "      <td>40121</td>\n",
       "      <td>5</td>\n",
       "      <td>1003835299</td>\n",
       "      <td>2006-07-19</td>\n",
       "      <td>8</td>\n",
       "    </tr>\n",
       "    <tr>\n",
       "      <th>1</th>\n",
       "      <td>1003835299</td>\n",
       "      <td>2014</td>\n",
       "      <td>19</td>\n",
       "      <td>31</td>\n",
       "      <td>61</td>\n",
       "      <td>0</td>\n",
       "      <td>80.0</td>\n",
       "      <td>1</td>\n",
       "      <td>M</td>\n",
       "      <td>MD</td>\n",
       "      <td>21093</td>\n",
       "      <td>40121</td>\n",
       "      <td>5</td>\n",
       "      <td>1003835299</td>\n",
       "      <td>2006-07-19</td>\n",
       "      <td>8</td>\n",
       "    </tr>\n",
       "    <tr>\n",
       "      <th>2</th>\n",
       "      <td>1003835299</td>\n",
       "      <td>2014</td>\n",
       "      <td>19</td>\n",
       "      <td>31</td>\n",
       "      <td>61</td>\n",
       "      <td>0</td>\n",
       "      <td>80.0</td>\n",
       "      <td>1</td>\n",
       "      <td>M</td>\n",
       "      <td>MD</td>\n",
       "      <td>21093</td>\n",
       "      <td>40121</td>\n",
       "      <td>5</td>\n",
       "      <td>1003835299</td>\n",
       "      <td>2006-07-19</td>\n",
       "      <td>8</td>\n",
       "    </tr>\n",
       "    <tr>\n",
       "      <th>3</th>\n",
       "      <td>1003835299</td>\n",
       "      <td>2014</td>\n",
       "      <td>19</td>\n",
       "      <td>31</td>\n",
       "      <td>61</td>\n",
       "      <td>0</td>\n",
       "      <td>80.0</td>\n",
       "      <td>1</td>\n",
       "      <td>M</td>\n",
       "      <td>MD</td>\n",
       "      <td>21093</td>\n",
       "      <td>40121</td>\n",
       "      <td>5</td>\n",
       "      <td>1003835299</td>\n",
       "      <td>2006-07-19</td>\n",
       "      <td>8</td>\n",
       "    </tr>\n",
       "    <tr>\n",
       "      <th>4</th>\n",
       "      <td>1003835299</td>\n",
       "      <td>2014</td>\n",
       "      <td>19</td>\n",
       "      <td>31</td>\n",
       "      <td>61</td>\n",
       "      <td>0</td>\n",
       "      <td>80.0</td>\n",
       "      <td>1</td>\n",
       "      <td>M</td>\n",
       "      <td>MD</td>\n",
       "      <td>21093</td>\n",
       "      <td>40121</td>\n",
       "      <td>5</td>\n",
       "      <td>1003835299</td>\n",
       "      <td>2006-07-19</td>\n",
       "      <td>8</td>\n",
       "    </tr>\n",
       "  </tbody>\n",
       "</table>\n",
       "</div>"
      ],
      "text/plain": [
       "          npi  year  claim_office  claim_inpatient  claim_outpatient  \\\n",
       "0  1003835299  2014            19               31                61   \n",
       "1  1003835299  2014            19               31                61   \n",
       "2  1003835299  2014            19               31                61   \n",
       "3  1003835299  2014            19               31                61   \n",
       "4  1003835299  2014            19               31                61   \n",
       "\n",
       "   claim_asc  claim_total  ind_integrate nppes_provider_gender  \\\n",
       "0          0         80.0              1                     M   \n",
       "1          0         80.0              1                     M   \n",
       "2          0         80.0              1                     M   \n",
       "3          0         80.0              1                     M   \n",
       "4          0         80.0              1                     M   \n",
       "\n",
       "  nppes_provider_state nppes_provider_zip   FIPS  RUCC_2013         NPI  \\\n",
       "0                   MD              21093  40121          5  1003835299   \n",
       "1                   MD              21093  40121          5  1003835299   \n",
       "2                   MD              21093  40121          5  1003835299   \n",
       "3                   MD              21093  40121          5  1003835299   \n",
       "4                   MD              21093  40121          5  1003835299   \n",
       "\n",
       "  Provider Enumeration Date  Years_of_Working  \n",
       "0                2006-07-19                 8  \n",
       "1                2006-07-19                 8  \n",
       "2                2006-07-19                 8  \n",
       "3                2006-07-19                 8  \n",
       "4                2006-07-19                 8  "
      ]
     },
     "execution_count": 12,
     "metadata": {},
     "output_type": "execute_result"
    }
   ],
   "source": [
    "# Merge CMS data and NPPES data\n",
    "data_merge = pd.merge(CMS_data, zipRUCC, on='nppes_provider_zip', sort=False, copy=False) \n",
    "data_merge = pd.merge(data_merge, NPPES_npidata, left_on='npi', right_on='NPI', sort=False, copy=False) \n",
    "data_merge.head()"
   ]
  },
  {
   "cell_type": "markdown",
   "metadata": {},
   "source": [
    "## Choose variables and create sample data"
   ]
  },
  {
   "cell_type": "code",
   "execution_count": 13,
   "metadata": {},
   "outputs": [
    {
     "data": {
      "text/plain": [
       "484"
      ]
     },
     "execution_count": 13,
     "metadata": {},
     "output_type": "execute_result"
    }
   ],
   "source": [
    "# Choose to include or exclude claims variables\n",
    "var = choose_var(data_merge)\n",
    "\n",
    "# Get dummy variables\n",
    "gender_dummy = pd.get_dummies(CMS_data['nppes_provider_gender'],drop_first=True,prefix='gender') # male=1, female=0\n",
    "state_dummy = pd.get_dummies(CMS_data['nppes_provider_state'],drop_first=True,prefix='state')\n",
    "\n",
    "# Data sets (conatins all variables needed)\n",
    "data = pd.concat([gender_dummy, state_dummy, var],axis=1)\n",
    "data.dropna(axis=0,how='any', inplace=True)\n",
    "data.shape[0]  # sample size"
   ]
  },
  {
   "cell_type": "code",
   "execution_count": 14,
   "metadata": {},
   "outputs": [
    {
     "data": {
      "text/plain": [
       "(363, 121, 363, 121)"
      ]
     },
     "execution_count": 14,
     "metadata": {},
     "output_type": "execute_result"
    }
   ],
   "source": [
    "# Create independent variables X and dependent variable y\n",
    "X = data.drop(labels='ind_integrate',axis=1, index=None, inplace=False)\n",
    "y = data['ind_integrate']\n",
    "\n",
    "# Split sample into 75% training set and 25% testing set\n",
    "from sklearn.model_selection import train_test_split\n",
    "X_train, X_test, y_train, y_test = train_test_split(X, y, test_size=0.25, random_state=1)\n",
    "X_train.shape[0], X_test.shape[0], y_train.shape[0], y_test.shape[0]"
   ]
  },
  {
   "cell_type": "markdown",
   "metadata": {},
   "source": [
    "### Detect and eliminate collinearity in claims"
   ]
  },
  {
   "cell_type": "code",
   "execution_count": 15,
   "metadata": {
    "scrolled": true
   },
   "outputs": [],
   "source": [
    "# Detect collinearity by computing Variance Inflation Factor(VIF)\n",
    "from statsmodels.formula.api import ols\n",
    "'''\n",
    "Since the physician characteristics variables can not be removed, \n",
    "here I considered the claims variables only \n",
    "'''\n",
    "if with_claims == True:\n",
    "    claims = pd.DataFrame(data, columns=['claim_office', 'claim_inpatient', 'claim_outpatient', 'claim_asc','claim_total'])\n",
    "    multicol_flag = True\n",
    "    while multicol_flag == True:\n",
    "        print('VIF of claims:')\n",
    "        vif_ind = []\n",
    "        for i in claims:\n",
    "            print(i, '\\t', vif(df=claims, col_i=i))\n",
    "            if vif(df=claims, col_i=i) < 10.0:\n",
    "                vif_ind.append(0)\n",
    "            else:\n",
    "                vif_ind.append(1)\n",
    "        print('\\t')\n",
    "        if vif_ind == list(np.zeros(len(claims.columns))):\n",
    "            multicol_flag = False\n",
    "        else:\n",
    "            for j in range(len(claims.columns),0,-1):\n",
    "                if vif_ind[j-1]==1:\n",
    "                    # remove one of the variables that causes collinearity problem\n",
    "                    data.drop(labels=claims.columns[j-1],axis=1, index=None, inplace=True)\n",
    "                    claims.drop(labels=claims.columns[j-1],axis=1, index=None, inplace=True)\n",
    "                break\n",
    "        "
   ]
  },
  {
   "cell_type": "markdown",
   "metadata": {},
   "source": [
    "## ML Methods"
   ]
  },
  {
   "cell_type": "markdown",
   "metadata": {},
   "source": [
    "### Linear regression(statsmodel)"
   ]
  },
  {
   "cell_type": "code",
   "execution_count": 16,
   "metadata": {},
   "outputs": [],
   "source": [
    "# Construct linear regression model to fit \n",
    "\n",
    "variables = list(data.columns)\n",
    "variables.remove('ind_integrate')\n",
    "\n",
    "# Train Linear Regression model\n",
    "\n",
    "model = 'ind_integrate' + '~'\n",
    "for i in range(len(variables)):\n",
    "    model = model + ' + ' + variables[i]"
   ]
  },
  {
   "cell_type": "code",
   "execution_count": 17,
   "metadata": {
    "scrolled": true
   },
   "outputs": [
    {
     "name": "stderr",
     "output_type": "stream",
     "text": [
      "G:\\ucl\\Softwares\\Python\\lib\\site-packages\\statsmodels\\base\\model.py:1362: RuntimeWarning: invalid value encountered in true_divide\n",
      "  return self.params / self.bse\n",
      "G:\\ucl\\Softwares\\Python\\lib\\site-packages\\scipy\\stats\\_distn_infrastructure.py:2039: RuntimeWarning: invalid value encountered in less_equal\n",
      "  cond2 = cond0 & (x <= _a)\n"
     ]
    },
    {
     "data": {
      "text/html": [
       "<table class=\"simpletable\">\n",
       "<caption>OLS Regression Results</caption>\n",
       "<tr>\n",
       "  <th>Dep. Variable:</th>      <td>ind_integrate</td>  <th>  R-squared:         </th> <td>   0.553</td>\n",
       "</tr>\n",
       "<tr>\n",
       "  <th>Model:</th>                   <td>OLS</td>       <th>  Adj. R-squared:    </th> <td>   0.526</td>\n",
       "</tr>\n",
       "<tr>\n",
       "  <th>Method:</th>             <td>Least Squares</td>  <th>  F-statistic:       </th> <td>   20.11</td>\n",
       "</tr>\n",
       "<tr>\n",
       "  <th>Date:</th>             <td>Wed, 25 Aug 2021</td> <th>  Prob (F-statistic):</th> <td>1.50e-47</td>\n",
       "</tr>\n",
       "<tr>\n",
       "  <th>Time:</th>                 <td>22:20:10</td>     <th>  Log-Likelihood:    </th> <td> -59.805</td>\n",
       "</tr>\n",
       "<tr>\n",
       "  <th>No. Observations:</th>      <td>   363</td>      <th>  AIC:               </th> <td>   163.6</td>\n",
       "</tr>\n",
       "<tr>\n",
       "  <th>Df Residuals:</th>          <td>   341</td>      <th>  BIC:               </th> <td>   249.3</td>\n",
       "</tr>\n",
       "<tr>\n",
       "  <th>Df Model:</th>              <td>    21</td>      <th>                     </th>     <td> </td>   \n",
       "</tr>\n",
       "<tr>\n",
       "  <th>Covariance Type:</th>      <td>nonrobust</td>    <th>                     </th>     <td> </td>   \n",
       "</tr>\n",
       "</table>\n",
       "<table class=\"simpletable\">\n",
       "<tr>\n",
       "          <td></td>            <th>coef</th>     <th>std err</th>      <th>t</th>      <th>P>|t|</th>  <th>[0.025</th>    <th>0.975]</th>  \n",
       "</tr>\n",
       "<tr>\n",
       "  <th>Intercept</th>        <td>    0.1676</td> <td>    1.093</td> <td>    0.153</td> <td> 0.878</td> <td>   -1.983</td> <td>    2.318</td>\n",
       "</tr>\n",
       "<tr>\n",
       "  <th>gender_M</th>         <td>   -0.4841</td> <td>    0.055</td> <td>   -8.872</td> <td> 0.000</td> <td>   -0.591</td> <td>   -0.377</td>\n",
       "</tr>\n",
       "<tr>\n",
       "  <th>state_AL</th>         <td>-2.378e-15</td> <td> 6.33e-15</td> <td>   -0.376</td> <td> 0.707</td> <td>-1.48e-14</td> <td> 1.01e-14</td>\n",
       "</tr>\n",
       "<tr>\n",
       "  <th>state_AR</th>         <td>  5.47e-16</td> <td> 1.25e-15</td> <td>    0.436</td> <td> 0.663</td> <td>-1.92e-15</td> <td> 3.01e-15</td>\n",
       "</tr>\n",
       "<tr>\n",
       "  <th>state_AZ</th>         <td>    0.4208</td> <td>    0.094</td> <td>    4.484</td> <td> 0.000</td> <td>    0.236</td> <td>    0.605</td>\n",
       "</tr>\n",
       "<tr>\n",
       "  <th>state_CA</th>         <td>    0.7397</td> <td>    0.122</td> <td>    6.075</td> <td> 0.000</td> <td>    0.500</td> <td>    0.979</td>\n",
       "</tr>\n",
       "<tr>\n",
       "  <th>state_CO</th>         <td> 2.825e-16</td> <td> 2.28e-16</td> <td>    1.240</td> <td> 0.216</td> <td>-1.65e-16</td> <td>  7.3e-16</td>\n",
       "</tr>\n",
       "<tr>\n",
       "  <th>state_CT</th>         <td>-5.295e-16</td> <td>  3.2e-16</td> <td>   -1.653</td> <td> 0.099</td> <td>-1.16e-15</td> <td> 1.01e-16</td>\n",
       "</tr>\n",
       "<tr>\n",
       "  <th>state_DC</th>         <td> 5.026e-16</td> <td> 4.22e-16</td> <td>    1.191</td> <td> 0.234</td> <td>-3.27e-16</td> <td> 1.33e-15</td>\n",
       "</tr>\n",
       "<tr>\n",
       "  <th>state_DE</th>         <td>-6.491e-17</td> <td> 1.52e-16</td> <td>   -0.427</td> <td> 0.670</td> <td>-3.64e-16</td> <td> 2.34e-16</td>\n",
       "</tr>\n",
       "<tr>\n",
       "  <th>state_FL</th>         <td>   -0.1262</td> <td>    0.084</td> <td>   -1.507</td> <td> 0.133</td> <td>   -0.291</td> <td>    0.039</td>\n",
       "</tr>\n",
       "<tr>\n",
       "  <th>state_GA</th>         <td> 3.536e-16</td> <td> 2.38e-16</td> <td>    1.486</td> <td> 0.138</td> <td>-1.14e-16</td> <td> 8.22e-16</td>\n",
       "</tr>\n",
       "<tr>\n",
       "  <th>state_HI</th>         <td>-1.608e-16</td> <td> 2.17e-16</td> <td>   -0.742</td> <td> 0.459</td> <td>-5.87e-16</td> <td> 2.66e-16</td>\n",
       "</tr>\n",
       "<tr>\n",
       "  <th>state_IA</th>         <td>   -0.1502</td> <td>    0.120</td> <td>   -1.249</td> <td> 0.213</td> <td>   -0.387</td> <td>    0.086</td>\n",
       "</tr>\n",
       "<tr>\n",
       "  <th>state_ID</th>         <td> 1.463e-16</td> <td> 3.64e-17</td> <td>    4.020</td> <td> 0.000</td> <td> 7.47e-17</td> <td> 2.18e-16</td>\n",
       "</tr>\n",
       "<tr>\n",
       "  <th>state_IL</th>         <td>   -0.1250</td> <td>    0.122</td> <td>   -1.028</td> <td> 0.305</td> <td>   -0.364</td> <td>    0.114</td>\n",
       "</tr>\n",
       "<tr>\n",
       "  <th>state_IN</th>         <td>   -0.1093</td> <td>    0.289</td> <td>   -0.379</td> <td> 0.705</td> <td>   -0.677</td> <td>    0.459</td>\n",
       "</tr>\n",
       "<tr>\n",
       "  <th>state_KS</th>         <td>-6.495e-18</td> <td> 2.18e-17</td> <td>   -0.299</td> <td> 0.765</td> <td>-4.93e-17</td> <td> 3.63e-17</td>\n",
       "</tr>\n",
       "<tr>\n",
       "  <th>state_KY</th>         <td> 2.357e-18</td> <td> 1.73e-17</td> <td>    0.136</td> <td> 0.892</td> <td>-3.17e-17</td> <td> 3.64e-17</td>\n",
       "</tr>\n",
       "<tr>\n",
       "  <th>state_LA</th>         <td> 8.409e-17</td> <td> 2.45e-17</td> <td>    3.425</td> <td> 0.001</td> <td> 3.58e-17</td> <td> 1.32e-16</td>\n",
       "</tr>\n",
       "<tr>\n",
       "  <th>state_MA</th>         <td>   -0.1509</td> <td>    0.128</td> <td>   -1.175</td> <td> 0.241</td> <td>   -0.404</td> <td>    0.102</td>\n",
       "</tr>\n",
       "<tr>\n",
       "  <th>state_MD</th>         <td>   -0.5722</td> <td>    0.140</td> <td>   -4.097</td> <td> 0.000</td> <td>   -0.847</td> <td>   -0.297</td>\n",
       "</tr>\n",
       "<tr>\n",
       "  <th>state_ME</th>         <td>         0</td> <td>        0</td> <td>      nan</td> <td>   nan</td> <td>        0</td> <td>        0</td>\n",
       "</tr>\n",
       "<tr>\n",
       "  <th>state_MI</th>         <td>         0</td> <td>        0</td> <td>      nan</td> <td>   nan</td> <td>        0</td> <td>        0</td>\n",
       "</tr>\n",
       "<tr>\n",
       "  <th>state_MN</th>         <td>         0</td> <td>        0</td> <td>      nan</td> <td>   nan</td> <td>        0</td> <td>        0</td>\n",
       "</tr>\n",
       "<tr>\n",
       "  <th>state_MO</th>         <td>         0</td> <td>        0</td> <td>      nan</td> <td>   nan</td> <td>        0</td> <td>        0</td>\n",
       "</tr>\n",
       "<tr>\n",
       "  <th>state_MS</th>         <td>         0</td> <td>        0</td> <td>      nan</td> <td>   nan</td> <td>        0</td> <td>        0</td>\n",
       "</tr>\n",
       "<tr>\n",
       "  <th>state_MT</th>         <td>         0</td> <td>        0</td> <td>      nan</td> <td>   nan</td> <td>        0</td> <td>        0</td>\n",
       "</tr>\n",
       "<tr>\n",
       "  <th>state_NC</th>         <td>    0.3560</td> <td>    0.079</td> <td>    4.514</td> <td> 0.000</td> <td>    0.201</td> <td>    0.511</td>\n",
       "</tr>\n",
       "<tr>\n",
       "  <th>state_ND</th>         <td>         0</td> <td>        0</td> <td>      nan</td> <td>   nan</td> <td>        0</td> <td>        0</td>\n",
       "</tr>\n",
       "<tr>\n",
       "  <th>state_NE</th>         <td>         0</td> <td>        0</td> <td>      nan</td> <td>   nan</td> <td>        0</td> <td>        0</td>\n",
       "</tr>\n",
       "<tr>\n",
       "  <th>state_NH</th>         <td>         0</td> <td>        0</td> <td>      nan</td> <td>   nan</td> <td>        0</td> <td>        0</td>\n",
       "</tr>\n",
       "<tr>\n",
       "  <th>state_NJ</th>         <td>    0.8543</td> <td>    0.122</td> <td>    7.010</td> <td> 0.000</td> <td>    0.615</td> <td>    1.094</td>\n",
       "</tr>\n",
       "<tr>\n",
       "  <th>state_NM</th>         <td>         0</td> <td>        0</td> <td>      nan</td> <td>   nan</td> <td>        0</td> <td>        0</td>\n",
       "</tr>\n",
       "<tr>\n",
       "  <th>state_NV</th>         <td>         0</td> <td>        0</td> <td>      nan</td> <td>   nan</td> <td>        0</td> <td>        0</td>\n",
       "</tr>\n",
       "<tr>\n",
       "  <th>state_NY</th>         <td>   -0.1992</td> <td>    0.071</td> <td>   -2.786</td> <td> 0.006</td> <td>   -0.340</td> <td>   -0.059</td>\n",
       "</tr>\n",
       "<tr>\n",
       "  <th>state_OH</th>         <td>         0</td> <td>        0</td> <td>      nan</td> <td>   nan</td> <td>        0</td> <td>        0</td>\n",
       "</tr>\n",
       "<tr>\n",
       "  <th>state_OK</th>         <td>   -0.1241</td> <td>    0.103</td> <td>   -1.205</td> <td> 0.229</td> <td>   -0.327</td> <td>    0.078</td>\n",
       "</tr>\n",
       "<tr>\n",
       "  <th>state_OR</th>         <td>   -0.1248</td> <td>    0.134</td> <td>   -0.929</td> <td> 0.354</td> <td>   -0.389</td> <td>    0.139</td>\n",
       "</tr>\n",
       "<tr>\n",
       "  <th>state_PA</th>         <td>   -0.0979</td> <td>    0.092</td> <td>   -1.060</td> <td> 0.290</td> <td>   -0.280</td> <td>    0.084</td>\n",
       "</tr>\n",
       "<tr>\n",
       "  <th>state_PR</th>         <td>   -0.1224</td> <td>    0.144</td> <td>   -0.852</td> <td> 0.395</td> <td>   -0.405</td> <td>    0.160</td>\n",
       "</tr>\n",
       "<tr>\n",
       "  <th>state_RI</th>         <td>         0</td> <td>        0</td> <td>      nan</td> <td>   nan</td> <td>        0</td> <td>        0</td>\n",
       "</tr>\n",
       "<tr>\n",
       "  <th>state_SC</th>         <td>   -0.1210</td> <td>    0.127</td> <td>   -0.951</td> <td> 0.342</td> <td>   -0.371</td> <td>    0.129</td>\n",
       "</tr>\n",
       "<tr>\n",
       "  <th>state_SD</th>         <td>         0</td> <td>        0</td> <td>      nan</td> <td>   nan</td> <td>        0</td> <td>        0</td>\n",
       "</tr>\n",
       "<tr>\n",
       "  <th>state_TN</th>         <td>   -0.1279</td> <td>    0.144</td> <td>   -0.889</td> <td> 0.375</td> <td>   -0.411</td> <td>    0.155</td>\n",
       "</tr>\n",
       "<tr>\n",
       "  <th>state_TX</th>         <td>    0.0518</td> <td>    0.077</td> <td>    0.670</td> <td> 0.503</td> <td>   -0.100</td> <td>    0.204</td>\n",
       "</tr>\n",
       "<tr>\n",
       "  <th>state_UT</th>         <td>         0</td> <td>        0</td> <td>      nan</td> <td>   nan</td> <td>        0</td> <td>        0</td>\n",
       "</tr>\n",
       "<tr>\n",
       "  <th>state_VA</th>         <td>   -0.1036</td> <td>    0.084</td> <td>   -1.232</td> <td> 0.219</td> <td>   -0.269</td> <td>    0.062</td>\n",
       "</tr>\n",
       "<tr>\n",
       "  <th>state_VI</th>         <td>         0</td> <td>        0</td> <td>      nan</td> <td>   nan</td> <td>        0</td> <td>        0</td>\n",
       "</tr>\n",
       "<tr>\n",
       "  <th>state_VT</th>         <td>         0</td> <td>        0</td> <td>      nan</td> <td>   nan</td> <td>        0</td> <td>        0</td>\n",
       "</tr>\n",
       "<tr>\n",
       "  <th>state_WA</th>         <td>         0</td> <td>        0</td> <td>      nan</td> <td>   nan</td> <td>        0</td> <td>        0</td>\n",
       "</tr>\n",
       "<tr>\n",
       "  <th>state_WI</th>         <td>         0</td> <td>        0</td> <td>      nan</td> <td>   nan</td> <td>        0</td> <td>        0</td>\n",
       "</tr>\n",
       "<tr>\n",
       "  <th>state_WV</th>         <td>         0</td> <td>        0</td> <td>      nan</td> <td>   nan</td> <td>        0</td> <td>        0</td>\n",
       "</tr>\n",
       "<tr>\n",
       "  <th>state_WY</th>         <td>         0</td> <td>        0</td> <td>      nan</td> <td>   nan</td> <td>        0</td> <td>        0</td>\n",
       "</tr>\n",
       "<tr>\n",
       "  <th>state_ZZ</th>         <td>         0</td> <td>        0</td> <td>      nan</td> <td>   nan</td> <td>        0</td> <td>        0</td>\n",
       "</tr>\n",
       "<tr>\n",
       "  <th>RUCC_2013</th>        <td>   -0.0055</td> <td>    0.008</td> <td>   -0.692</td> <td> 0.489</td> <td>   -0.021</td> <td>    0.010</td>\n",
       "</tr>\n",
       "<tr>\n",
       "  <th>Years_of_Working</th> <td>    0.0594</td> <td>    0.144</td> <td>    0.411</td> <td> 0.681</td> <td>   -0.224</td> <td>    0.343</td>\n",
       "</tr>\n",
       "</table>\n",
       "<table class=\"simpletable\">\n",
       "<tr>\n",
       "  <th>Omnibus:</th>       <td>22.227</td> <th>  Durbin-Watson:     </th> <td>   2.067</td>\n",
       "</tr>\n",
       "<tr>\n",
       "  <th>Prob(Omnibus):</th> <td> 0.000</td> <th>  Jarque-Bera (JB):  </th> <td>  33.769</td>\n",
       "</tr>\n",
       "<tr>\n",
       "  <th>Skew:</th>          <td> 0.436</td> <th>  Prob(JB):          </th> <td>4.65e-08</td>\n",
       "</tr>\n",
       "<tr>\n",
       "  <th>Kurtosis:</th>      <td> 4.214</td> <th>  Cond. No.          </th> <td>1.17e+17</td>\n",
       "</tr>\n",
       "</table><br/><br/>Warnings:<br/>[1] Standard Errors assume that the covariance matrix of the errors is correctly specified.<br/>[2] The smallest eigenvalue is 2.36e-30. This might indicate that there are<br/>strong multicollinearity problems or that the design matrix is singular."
      ],
      "text/plain": [
       "<class 'statsmodels.iolib.summary.Summary'>\n",
       "\"\"\"\n",
       "                            OLS Regression Results                            \n",
       "==============================================================================\n",
       "Dep. Variable:          ind_integrate   R-squared:                       0.553\n",
       "Model:                            OLS   Adj. R-squared:                  0.526\n",
       "Method:                 Least Squares   F-statistic:                     20.11\n",
       "Date:                Wed, 25 Aug 2021   Prob (F-statistic):           1.50e-47\n",
       "Time:                        22:20:10   Log-Likelihood:                -59.805\n",
       "No. Observations:                 363   AIC:                             163.6\n",
       "Df Residuals:                     341   BIC:                             249.3\n",
       "Df Model:                          21                                         \n",
       "Covariance Type:            nonrobust                                         \n",
       "====================================================================================\n",
       "                       coef    std err          t      P>|t|      [0.025      0.975]\n",
       "------------------------------------------------------------------------------------\n",
       "Intercept            0.1676      1.093      0.153      0.878      -1.983       2.318\n",
       "gender_M            -0.4841      0.055     -8.872      0.000      -0.591      -0.377\n",
       "state_AL         -2.378e-15   6.33e-15     -0.376      0.707   -1.48e-14    1.01e-14\n",
       "state_AR           5.47e-16   1.25e-15      0.436      0.663   -1.92e-15    3.01e-15\n",
       "state_AZ             0.4208      0.094      4.484      0.000       0.236       0.605\n",
       "state_CA             0.7397      0.122      6.075      0.000       0.500       0.979\n",
       "state_CO          2.825e-16   2.28e-16      1.240      0.216   -1.65e-16     7.3e-16\n",
       "state_CT         -5.295e-16    3.2e-16     -1.653      0.099   -1.16e-15    1.01e-16\n",
       "state_DC          5.026e-16   4.22e-16      1.191      0.234   -3.27e-16    1.33e-15\n",
       "state_DE         -6.491e-17   1.52e-16     -0.427      0.670   -3.64e-16    2.34e-16\n",
       "state_FL            -0.1262      0.084     -1.507      0.133      -0.291       0.039\n",
       "state_GA          3.536e-16   2.38e-16      1.486      0.138   -1.14e-16    8.22e-16\n",
       "state_HI         -1.608e-16   2.17e-16     -0.742      0.459   -5.87e-16    2.66e-16\n",
       "state_IA            -0.1502      0.120     -1.249      0.213      -0.387       0.086\n",
       "state_ID          1.463e-16   3.64e-17      4.020      0.000    7.47e-17    2.18e-16\n",
       "state_IL            -0.1250      0.122     -1.028      0.305      -0.364       0.114\n",
       "state_IN            -0.1093      0.289     -0.379      0.705      -0.677       0.459\n",
       "state_KS         -6.495e-18   2.18e-17     -0.299      0.765   -4.93e-17    3.63e-17\n",
       "state_KY          2.357e-18   1.73e-17      0.136      0.892   -3.17e-17    3.64e-17\n",
       "state_LA          8.409e-17   2.45e-17      3.425      0.001    3.58e-17    1.32e-16\n",
       "state_MA            -0.1509      0.128     -1.175      0.241      -0.404       0.102\n",
       "state_MD            -0.5722      0.140     -4.097      0.000      -0.847      -0.297\n",
       "state_ME                  0          0        nan        nan           0           0\n",
       "state_MI                  0          0        nan        nan           0           0\n",
       "state_MN                  0          0        nan        nan           0           0\n",
       "state_MO                  0          0        nan        nan           0           0\n",
       "state_MS                  0          0        nan        nan           0           0\n",
       "state_MT                  0          0        nan        nan           0           0\n",
       "state_NC             0.3560      0.079      4.514      0.000       0.201       0.511\n",
       "state_ND                  0          0        nan        nan           0           0\n",
       "state_NE                  0          0        nan        nan           0           0\n",
       "state_NH                  0          0        nan        nan           0           0\n",
       "state_NJ             0.8543      0.122      7.010      0.000       0.615       1.094\n",
       "state_NM                  0          0        nan        nan           0           0\n",
       "state_NV                  0          0        nan        nan           0           0\n",
       "state_NY            -0.1992      0.071     -2.786      0.006      -0.340      -0.059\n",
       "state_OH                  0          0        nan        nan           0           0\n",
       "state_OK            -0.1241      0.103     -1.205      0.229      -0.327       0.078\n",
       "state_OR            -0.1248      0.134     -0.929      0.354      -0.389       0.139\n",
       "state_PA            -0.0979      0.092     -1.060      0.290      -0.280       0.084\n",
       "state_PR            -0.1224      0.144     -0.852      0.395      -0.405       0.160\n",
       "state_RI                  0          0        nan        nan           0           0\n",
       "state_SC            -0.1210      0.127     -0.951      0.342      -0.371       0.129\n",
       "state_SD                  0          0        nan        nan           0           0\n",
       "state_TN            -0.1279      0.144     -0.889      0.375      -0.411       0.155\n",
       "state_TX             0.0518      0.077      0.670      0.503      -0.100       0.204\n",
       "state_UT                  0          0        nan        nan           0           0\n",
       "state_VA            -0.1036      0.084     -1.232      0.219      -0.269       0.062\n",
       "state_VI                  0          0        nan        nan           0           0\n",
       "state_VT                  0          0        nan        nan           0           0\n",
       "state_WA                  0          0        nan        nan           0           0\n",
       "state_WI                  0          0        nan        nan           0           0\n",
       "state_WV                  0          0        nan        nan           0           0\n",
       "state_WY                  0          0        nan        nan           0           0\n",
       "state_ZZ                  0          0        nan        nan           0           0\n",
       "RUCC_2013           -0.0055      0.008     -0.692      0.489      -0.021       0.010\n",
       "Years_of_Working     0.0594      0.144      0.411      0.681      -0.224       0.343\n",
       "==============================================================================\n",
       "Omnibus:                       22.227   Durbin-Watson:                   2.067\n",
       "Prob(Omnibus):                  0.000   Jarque-Bera (JB):               33.769\n",
       "Skew:                           0.436   Prob(JB):                     4.65e-08\n",
       "Kurtosis:                       4.214   Cond. No.                     1.17e+17\n",
       "==============================================================================\n",
       "\n",
       "Warnings:\n",
       "[1] Standard Errors assume that the covariance matrix of the errors is correctly specified.\n",
       "[2] The smallest eigenvalue is 2.36e-30. This might indicate that there are\n",
       "strong multicollinearity problems or that the design matrix is singular.\n",
       "\"\"\""
      ]
     },
     "execution_count": 17,
     "metadata": {},
     "output_type": "execute_result"
    }
   ],
   "source": [
    "from statsmodels.formula.api import ols\n",
    "\n",
    "data_train = pd.concat([X_train, y_train],axis=1)\n",
    "lin_reg = ols(model, data=data_train).fit()\n",
    "lin_reg.summary()"
   ]
  },
  {
   "cell_type": "code",
   "execution_count": 18,
   "metadata": {},
   "outputs": [
    {
     "name": "stdout",
     "output_type": "stream",
     "text": [
      "Linear Regression:\n",
      "Accuracy: training set 0.8788, testing set 0.9091\n",
      "Precision: training set 0.7792, testing set 0.8947\n",
      "Recall: training set 0.6897, testing set 0.6538\n",
      "F1 score: training set 0.7317, testing set 0.7556\n"
     ]
    }
   ],
   "source": [
    "# Predict y\n",
    "y_lin_train = lin_pred(X_train, cutoff=0.5)\n",
    "y_lin_test = lin_pred(X_test, cutoff=0.5)\n",
    "\n",
    "# Scores\n",
    "print_scores(y_lin_train, y_lin_test, method=\"Linear Regression\")"
   ]
  },
  {
   "cell_type": "markdown",
   "metadata": {},
   "source": [
    "### Linear Regression(sklearn)"
   ]
  },
  {
   "cell_type": "code",
   "execution_count": 19,
   "metadata": {},
   "outputs": [
    {
     "data": {
      "text/plain": [
       "LinearRegression()"
      ]
     },
     "execution_count": 19,
     "metadata": {},
     "output_type": "execute_result"
    }
   ],
   "source": [
    "# Train Linear Regression model\n",
    "\n",
    "from sklearn.linear_model import LinearRegression\n",
    "lin_reg = LinearRegression()\n",
    "lin_reg.fit(X_train,y_train)"
   ]
  },
  {
   "cell_type": "code",
   "execution_count": 20,
   "metadata": {
    "scrolled": true
   },
   "outputs": [
    {
     "name": "stdout",
     "output_type": "stream",
     "text": [
      "Linear Regression:\n",
      "Accuracy: training set 0.8788, testing set 0.9091\n",
      "Precision: training set 0.7792, testing set 0.8947\n",
      "Recall: training set 0.6897, testing set 0.6538\n",
      "F1 score: training set 0.7317, testing set 0.7556\n"
     ]
    }
   ],
   "source": [
    "# Predict y\n",
    "y_lin_train = lin_pred(X_train, cutoff=0.5)\n",
    "y_lin_test = lin_pred(X_test, cutoff=0.5)\n",
    "\n",
    "# Scores\n",
    "print_scores(y_lin_train, y_lin_test, method=\"Linear Regression\")"
   ]
  },
  {
   "cell_type": "markdown",
   "metadata": {},
   "source": [
    "### Logistic Regression"
   ]
  },
  {
   "cell_type": "code",
   "execution_count": 21,
   "metadata": {},
   "outputs": [
    {
     "name": "stdout",
     "output_type": "stream",
     "text": [
      "Fitting 5 folds for each of 7 candidates, totalling 35 fits\n"
     ]
    },
    {
     "name": "stderr",
     "output_type": "stream",
     "text": [
      "[Parallel(n_jobs=8)]: Using backend LokyBackend with 8 concurrent workers.\n",
      "[Parallel(n_jobs=8)]: Done  35 out of  35 | elapsed:   16.9s finished\n"
     ]
    },
    {
     "data": {
      "text/plain": [
       "LogisticRegression(C=0.1)"
      ]
     },
     "execution_count": 21,
     "metadata": {},
     "output_type": "execute_result"
    }
   ],
   "source": [
    "# Train Logistics Regression model\n",
    "\n",
    "from sklearn.linear_model import LogisticRegression\n",
    "log_reg = LogisticRegression()  \n",
    "# use grid search to find the best parameters\n",
    "param_grid = {'C': [1e-3, 1e-2, 1e-1, 1, 10, 100, 1000]}    \n",
    "grid_search = GridSearchCV(log_reg, param_grid, n_jobs = 8, verbose=1)    \n",
    "grid_search.fit(X_train, y_train)    \n",
    "best_parameters = grid_search.best_estimator_.get_params() \n",
    "log_reg = LogisticRegression(C=best_parameters['C'])    \n",
    "log_reg.fit(X_train, y_train)"
   ]
  },
  {
   "cell_type": "code",
   "execution_count": 22,
   "metadata": {},
   "outputs": [
    {
     "name": "stdout",
     "output_type": "stream",
     "text": [
      "Logistic Regression:\n",
      "Accuracy: training set 0.8127, testing set 0.8512\n",
      "Precision: training set 0.8519, testing set 1.0000\n",
      "Recall: training set 0.2644, testing set 0.3077\n",
      "F1 score: training set 0.4035, testing set 0.4706\n"
     ]
    }
   ],
   "source": [
    "# Use Log_reg model to predict y\n",
    "y_log_train = log_reg.predict(X_train)\n",
    "y_log_test = log_reg.predict(X_test)\n",
    "\n",
    "# Scores\n",
    "print_scores(y_log_train, y_log_test, method=\"Logistic Regression\")"
   ]
  },
  {
   "cell_type": "markdown",
   "metadata": {},
   "source": [
    "### Support vector machine(SVM)"
   ]
  },
  {
   "cell_type": "code",
   "execution_count": 23,
   "metadata": {},
   "outputs": [
    {
     "name": "stderr",
     "output_type": "stream",
     "text": [
      "[Parallel(n_jobs=8)]: Using backend LokyBackend with 8 concurrent workers.\n"
     ]
    },
    {
     "name": "stdout",
     "output_type": "stream",
     "text": [
      "Fitting 5 folds for each of 56 candidates, totalling 280 fits\n"
     ]
    },
    {
     "name": "stderr",
     "output_type": "stream",
     "text": [
      "[Parallel(n_jobs=8)]: Done  34 tasks      | elapsed:    0.4s\n",
      "[Parallel(n_jobs=8)]: Done 280 out of 280 | elapsed:    1.1s finished\n"
     ]
    },
    {
     "data": {
      "text/plain": [
       "SVC(C=100, gamma=0.1)"
      ]
     },
     "execution_count": 23,
     "metadata": {},
     "output_type": "execute_result"
    }
   ],
   "source": [
    "# Train the SVM model\n",
    "\n",
    "from sklearn import svm \n",
    "svm_clf = svm.SVC()   \n",
    "# use grid search to find the best parameters\n",
    "param_grid = [{'kernel': ['rbf'], 'C': [1e-3, 1e-2, 1e-1, 1, 10, 100, 1000], 'gamma': [0.01, 0.1, 1]},\n",
    "              {'kernel': ['poly'], 'C': [1e-3, 1e-2, 1e-1, 1, 10, 100, 1000], 'degree': [3, 5, 7, 9]},\n",
    "              {'kernel': ['linear'], 'C': [1e-3, 1e-2, 1e-1, 1, 10, 100, 1000]}]\n",
    "grid_search = GridSearchCV(svm_clf, param_grid, n_jobs = 8, verbose=1)    \n",
    "grid_search.fit(X_train, y_train)    \n",
    "best_parameters = grid_search.best_estimator_.get_params() \n",
    "svm_clf = svm.SVC(kernel=best_parameters['kernel'], C=best_parameters['C'], gamma=best_parameters['gamma'], degree=best_parameters['degree'])    \n",
    "svm_clf.fit(X_train, y_train)"
   ]
  },
  {
   "cell_type": "code",
   "execution_count": 24,
   "metadata": {},
   "outputs": [
    {
     "name": "stdout",
     "output_type": "stream",
     "text": [
      "SVM:\n",
      "Accuracy: training set 0.9642, testing set 0.9669\n",
      "Precision: training set 0.9022, testing set 0.8667\n",
      "Recall: training set 0.9540, testing set 1.0000\n",
      "F1 score: training set 0.9274, testing set 0.9286\n"
     ]
    }
   ],
   "source": [
    "# Use SVM model to predict y\n",
    "y_svm_train = svm_clf.predict(X_train)\n",
    "y_svm_test = svm_clf.predict(X_test)\n",
    "\n",
    "# Scores\n",
    "print_scores(y_svm_train, y_svm_test, method=\"SVM\")"
   ]
  },
  {
   "cell_type": "markdown",
   "metadata": {},
   "source": [
    "### Decisian tree (DT)"
   ]
  },
  {
   "cell_type": "code",
   "execution_count": 25,
   "metadata": {},
   "outputs": [
    {
     "data": {
      "text/plain": [
       "DecisionTreeClassifier()"
      ]
     },
     "execution_count": 25,
     "metadata": {},
     "output_type": "execute_result"
    }
   ],
   "source": [
    "# Train decision tree model\n",
    "\n",
    "from sklearn import tree\n",
    "dt_clf = tree.DecisionTreeClassifier()\n",
    "dt_clf.fit(X_train, y_train)"
   ]
  },
  {
   "cell_type": "code",
   "execution_count": 26,
   "metadata": {},
   "outputs": [
    {
     "name": "stdout",
     "output_type": "stream",
     "text": [
      "Decision Tree:\n",
      "Accuracy: training set 0.9642, testing set 0.9669\n",
      "Precision: training set 0.9022, testing set 0.8667\n",
      "Recall: training set 0.9540, testing set 1.0000\n",
      "F1 score: training set 0.9274, testing set 0.9286\n"
     ]
    }
   ],
   "source": [
    "# Use decision tree model to predict y\n",
    "y_dt_train = dt_clf.predict(X_train)\n",
    "y_dt_test = dt_clf.predict(X_test)\n",
    "\n",
    "# Scores\n",
    "print_scores(y_dt_train, y_dt_test, method=\"Decision Tree\")"
   ]
  },
  {
   "cell_type": "markdown",
   "metadata": {},
   "source": [
    "### K-Nearest Neighbour (KNN)"
   ]
  },
  {
   "cell_type": "code",
   "execution_count": 27,
   "metadata": {},
   "outputs": [
    {
     "name": "stdout",
     "output_type": "stream",
     "text": [
      "Fitting 5 folds for each of 60 candidates, totalling 300 fits\n"
     ]
    },
    {
     "name": "stderr",
     "output_type": "stream",
     "text": [
      "[Parallel(n_jobs=8)]: Using backend LokyBackend with 8 concurrent workers.\n",
      "[Parallel(n_jobs=8)]: Done  25 tasks      | elapsed:    0.4s\n",
      "[Parallel(n_jobs=8)]: Done 300 out of 300 | elapsed:    1.3s finished\n"
     ]
    },
    {
     "data": {
      "text/plain": [
       "KNeighborsClassifier(n_neighbors=3, p=1, weights='distance')"
      ]
     },
     "execution_count": 27,
     "metadata": {},
     "output_type": "execute_result"
    }
   ],
   "source": [
    "# Train KNN model\n",
    "\n",
    "from sklearn.neighbors import KNeighborsClassifier\n",
    "knn_clf = KNeighborsClassifier(n_neighbors=3) \n",
    "# use grid search to find the best parameters\n",
    "param_grid = [{'weights':['distance'], 'n_neighbors':[i for i in range(1,11)], 'p':[i for i in range(1,6)]},\n",
    "              {'weights':['uniform'], 'n_neighbors':[i for i in range(1,11)]}]\n",
    "grid_search = GridSearchCV(knn_clf, param_grid, n_jobs = 8, verbose=2)    \n",
    "grid_search.fit(X_train, y_train)    \n",
    "best_parameters = grid_search.best_estimator_.get_params() \n",
    "knn_clf = KNeighborsClassifier(weights=best_parameters['weights'], n_neighbors=best_parameters['n_neighbors'],p=best_parameters['p'])    \n",
    "knn_clf.fit(X_train, y_train)"
   ]
  },
  {
   "cell_type": "code",
   "execution_count": 28,
   "metadata": {},
   "outputs": [
    {
     "name": "stdout",
     "output_type": "stream",
     "text": [
      "K-Nearest Neighbour:\n",
      "Accuracy: training set 0.9642, testing set 0.9587\n",
      "Precision: training set 0.9022, testing set 0.8621\n",
      "Recall: training set 0.9540, testing set 0.9615\n",
      "F1 score: training set 0.9274, testing set 0.9091\n"
     ]
    }
   ],
   "source": [
    "# Use decision tree model to predict y\n",
    "y_knn_train = knn_clf.predict(X_train)\n",
    "y_knn_test = knn_clf.predict(X_test)\n",
    "\n",
    "# Scores\n",
    "print_scores(y_knn_train, y_knn_test, method=\"K-Nearest Neighbour\")"
   ]
  },
  {
   "cell_type": "markdown",
   "metadata": {},
   "source": [
    "### Naive Bayesian Model(NBM)"
   ]
  },
  {
   "cell_type": "code",
   "execution_count": 29,
   "metadata": {},
   "outputs": [
    {
     "name": "stdout",
     "output_type": "stream",
     "text": [
      "Fitting 5 folds for each of 3 candidates, totalling 15 fits\n"
     ]
    },
    {
     "name": "stderr",
     "output_type": "stream",
     "text": [
      "[Parallel(n_jobs=8)]: Using backend LokyBackend with 8 concurrent workers.\n",
      "[Parallel(n_jobs=8)]: Done  15 out of  15 | elapsed:    0.1s finished\n"
     ]
    },
    {
     "data": {
      "text/plain": [
       "BernoulliNB()"
      ]
     },
     "execution_count": 29,
     "metadata": {},
     "output_type": "execute_result"
    }
   ],
   "source": [
    "# Train NBM model\n",
    "\n",
    "from sklearn.naive_bayes import BernoulliNB\n",
    "nbmBNL_clf = BernoulliNB() \n",
    "# use grid search to find the best parameters\n",
    "param_grid = {'alpha': [0.0, 0.5, 1.0]}    \n",
    "grid_search = GridSearchCV(nbmBNL_clf, param_grid, n_jobs = 8, verbose=1)    \n",
    "grid_search.fit(X_train, y_train)    \n",
    "best_parameters = grid_search.best_estimator_.get_params() \n",
    "nbmBNL_clf = BernoulliNB(alpha=best_parameters['alpha'])    \n",
    "nbmBNL_clf.fit(X_train, y_train)\n"
   ]
  },
  {
   "cell_type": "code",
   "execution_count": 30,
   "metadata": {},
   "outputs": [
    {
     "name": "stdout",
     "output_type": "stream",
     "text": [
      "Naive Bayesian - Bernoulli:\n",
      "Accuracy: training set 0.8623, testing set 0.8843\n",
      "Precision: training set 0.9111, testing set 1.0000\n",
      "Recall: training set 0.4713, testing set 0.4615\n",
      "F1 score: training set 0.6212, testing set 0.6316\n"
     ]
    }
   ],
   "source": [
    "# Use decision tree model to predict y\n",
    "y_nbmBNL_train = nbmBNL_clf.predict(X_train)\n",
    "y_nbmBNL_test = nbmBNL_clf.predict(X_test)\n",
    "\n",
    "# Scores\n",
    "print_scores(y_nbmBNL_train, y_nbmBNL_test, method=\"Naive Bayesian - Bernoulli\")"
   ]
  },
  {
   "cell_type": "markdown",
   "metadata": {},
   "source": [
    "## Ensemble method - Random Forest"
   ]
  },
  {
   "cell_type": "code",
   "execution_count": 31,
   "metadata": {},
   "outputs": [
    {
     "name": "stdout",
     "output_type": "stream",
     "text": [
      "Fitting 5 folds for each of 144 candidates, totalling 720 fits\n"
     ]
    },
    {
     "name": "stderr",
     "output_type": "stream",
     "text": [
      "[Parallel(n_jobs=8)]: Using backend LokyBackend with 8 concurrent workers.\n",
      "[Parallel(n_jobs=8)]: Done  34 tasks      | elapsed:    0.9s\n",
      "[Parallel(n_jobs=8)]: Done 184 tasks      | elapsed:    4.3s\n",
      "[Parallel(n_jobs=8)]: Done 434 tasks      | elapsed:   10.9s\n",
      "[Parallel(n_jobs=8)]: Done 720 out of 720 | elapsed:   18.2s finished\n"
     ]
    },
    {
     "data": {
      "text/plain": [
       "RandomForestClassifier(max_depth=8, n_estimators=70, random_state=0)"
      ]
     },
     "execution_count": 31,
     "metadata": {},
     "output_type": "execute_result"
    }
   ],
   "source": [
    "from sklearn.ensemble import RandomForestClassifier\n",
    "rf_clf = RandomForestClassifier(random_state=0)\n",
    "# use grid search to find the best parameters\n",
    "param_grid = {'n_estimators': [10,30,70,90], 'max_depth': [2,4,6,8], 'min_samples_split': [2,3,4], 'min_samples_leaf': [1,2,3]}    \n",
    "grid_search = GridSearchCV(rf_clf, param_grid, n_jobs = 8, verbose=1)    \n",
    "grid_search.fit(X_train, y_train)    \n",
    "best_parameters = grid_search.best_estimator_.get_params() \n",
    "rf_clf = RandomForestClassifier(n_estimators=best_parameters['n_estimators'], max_depth=best_parameters['max_depth'], random_state=0,\n",
    "                    min_samples_split=best_parameters['min_samples_split'], min_samples_leaf=best_parameters['min_samples_leaf'])    \n",
    "rf_clf.fit(X_train, y_train)"
   ]
  },
  {
   "cell_type": "code",
   "execution_count": 32,
   "metadata": {},
   "outputs": [
    {
     "name": "stdout",
     "output_type": "stream",
     "text": [
      "Random Forest:\n",
      "Accuracy: training set 0.9642, testing set 0.9587\n",
      "Precision: training set 0.9022, testing set 0.8621\n",
      "Recall: training set 0.9540, testing set 0.9615\n",
      "F1 score: training set 0.9274, testing set 0.9091\n"
     ]
    }
   ],
   "source": [
    "# Use decision tree model to predict y\n",
    "y_rf_train = rf_clf.predict(X_train)\n",
    "y_rf_test = rf_clf.predict(X_test)\n",
    "\n",
    "# Scores\n",
    "print_scores(y_rf_train, y_rf_test, method=\"Random Forest\")"
   ]
  },
  {
   "cell_type": "markdown",
   "metadata": {},
   "source": [
    "# Predict VI"
   ]
  },
  {
   "cell_type": "markdown",
   "metadata": {},
   "source": [
    "## Data processing"
   ]
  },
  {
   "cell_type": "code",
   "execution_count": 33,
   "metadata": {},
   "outputs": [],
   "source": [
    "def get_X_pred(pred_year=2015, with_claims=False):\n",
    "    # Load CMS full version data\n",
    "    CMS_full = load_CMS(year=pred_year, version='full', cleaning=True)\n",
    "    CMS_full.drop_duplicates(subset='npi', keep='first', inplace=True)\n",
    "    # Compute years of experience\n",
    "    NPPES_npidata['Years_of_Working'] = pred_year - EnumerationYear\n",
    "    # Merge CMS data and NPPES data\n",
    "    data_merge = pd.merge(CMS_full, zipRUCC, on='nppes_provider_zip', sort=False, copy=False) \n",
    "    data_merge['npi'] = data_merge['npi'].apply(str)\n",
    "    data_merge = pd.merge(data_merge, NPPES_npidata, left_on='npi', right_on='NPI', sort=False, copy=False)\n",
    "    # Choose to include or exclude claims variables\n",
    "    pred_var = choose_var(data_merge)\n",
    "    pred_var.drop(labels='ind_integrate',axis=1, index=None, inplace=True)\n",
    "    # Get dummy variables\n",
    "    gender_dummy = pd.get_dummies(CMS_full['nppes_provider_gender'],drop_first=True,prefix='gender') # male=1, female=0\n",
    "    state_dummy = pd.get_dummies(CMS_full['nppes_provider_state'],drop_first=True,prefix='state')\n",
    "    # Data sets\n",
    "    pred_data = pd.concat([gender_dummy, state_dummy, pred_var],axis=1)\n",
    "    pred_data.dropna(axis=0, how='any', inplace=True)\n",
    "    #pred_data.shape[0]\n",
    "    pred_data.head()\n",
    "    pred_cols = list(X_train.columns)\n",
    "    X = pred_data[pred_cols]\n",
    "    return X\n"
   ]
  },
  {
   "cell_type": "markdown",
   "metadata": {},
   "source": [
    "### Prediction"
   ]
  },
  {
   "cell_type": "code",
   "execution_count": 34,
   "metadata": {},
   "outputs": [
    {
     "name": "stderr",
     "output_type": "stream",
     "text": [
      "G:\\ucl\\Softwares\\Python\\lib\\site-packages\\IPython\\core\\interactiveshell.py:3343: DtypeWarning: Columns (11) have mixed types.Specify dtype option on import or set low_memory=False.\n",
      "  exec(code_obj, self.user_global_ns, self.user_ns)\n"
     ]
    },
    {
     "data": {
      "text/plain": [
       "(0.32275132275132273,\n",
       " 0.455026455026455,\n",
       " 0.20105820105820105,\n",
       " 0.20105820105820105)"
      ]
     },
     "execution_count": 34,
     "metadata": {},
     "output_type": "execute_result"
    }
   ],
   "source": [
    "# 2015 physician integrating status\n",
    "X_2015 = get_X_pred(pred_year=2015, with_claims=False)\n",
    "\n",
    "# Predict y using SVM, DT, KNN and RF\n",
    "y_svm_2015 = list(svm_clf.predict(X_2015).astype(int))\n",
    "y_dt_2015 = list(dt_clf.predict(X_2015).astype(int))\n",
    "y_knn_2015 = list(knn_clf.predict(X_2015).astype(int))\n",
    "y_rf_2015 = list(rf_clf.predict(X_2015).astype(int))\n",
    "\n",
    "# Compute the percentages of physicians that integrated for each method \n",
    "np.mean(y_svm_2015), np.mean(y_dt_2015), np.mean(y_knn_2015), np.mean(y_rf_2015)"
   ]
  },
  {
   "cell_type": "code",
   "execution_count": 35,
   "metadata": {},
   "outputs": [
    {
     "name": "stderr",
     "output_type": "stream",
     "text": [
      "G:\\ucl\\Softwares\\Python\\lib\\site-packages\\IPython\\core\\interactiveshell.py:3343: DtypeWarning: Columns (11) have mixed types.Specify dtype option on import or set low_memory=False.\n",
      "  exec(code_obj, self.user_global_ns, self.user_ns)\n"
     ]
    },
    {
     "data": {
      "text/plain": [
       "(0.3333333333333333,\n",
       " 0.4838709677419355,\n",
       " 0.25268817204301075,\n",
       " 0.23655913978494625)"
      ]
     },
     "execution_count": 35,
     "metadata": {},
     "output_type": "execute_result"
    }
   ],
   "source": [
    "# 2016 physician integrating status\n",
    "X_2016 = get_X_pred(pred_year=2016, with_claims=False)\n",
    "\n",
    "# Predict y using SVM, DT, KNN and RF\n",
    "y_svm_2016 = list(svm_clf.predict(X_2016).astype(int))\n",
    "y_dt_2016 = list(dt_clf.predict(X_2016).astype(int))\n",
    "y_knn_2016 = list(knn_clf.predict(X_2016).astype(int))\n",
    "y_rf_2016 = list(rf_clf.predict(X_2016).astype(int))\n",
    "\n",
    "# Compute the percentages of physicians that integrated for each method \n",
    "np.mean(y_svm_2016), np.mean(y_dt_2016), np.mean(y_knn_2016), np.mean(y_rf_2016)"
   ]
  },
  {
   "cell_type": "code",
   "execution_count": 36,
   "metadata": {},
   "outputs": [
    {
     "name": "stderr",
     "output_type": "stream",
     "text": [
      "G:\\ucl\\Softwares\\Python\\lib\\site-packages\\IPython\\core\\interactiveshell.py:3343: DtypeWarning: Columns (11) have mixed types.Specify dtype option on import or set low_memory=False.\n",
      "  exec(code_obj, self.user_global_ns, self.user_ns)\n"
     ]
    },
    {
     "data": {
      "text/plain": [
       "(0.11063829787234042,\n",
       " 0.5148936170212766,\n",
       " 0.23404255319148937,\n",
       " 0.24680851063829787)"
      ]
     },
     "execution_count": 36,
     "metadata": {},
     "output_type": "execute_result"
    }
   ],
   "source": [
    "# 2017 physician integrating status\n",
    "X_2017 = get_X_pred(pred_year=2017, with_claims=False)\n",
    "\n",
    "# Predict y using SVM, DT, KNN and RF\n",
    "y_svm_2017 = list(svm_clf.predict(X_2017).astype(int))\n",
    "y_dt_2017 = list(dt_clf.predict(X_2017).astype(int))\n",
    "y_knn_2017 = list(knn_clf.predict(X_2017).astype(int))\n",
    "y_rf_2017 = list(rf_clf.predict(X_2017).astype(int))\n",
    "\n",
    "# Compute the percentages of physicians that integrated for each method \n",
    "np.mean(y_svm_2017), np.mean(y_dt_2017), np.mean(y_knn_2017), np.mean(y_rf_2017)"
   ]
  },
  {
   "cell_type": "code",
   "execution_count": 37,
   "metadata": {},
   "outputs": [
    {
     "name": "stderr",
     "output_type": "stream",
     "text": [
      "G:\\ucl\\Softwares\\Python\\lib\\site-packages\\IPython\\core\\interactiveshell.py:3343: DtypeWarning: Columns (11) have mixed types.Specify dtype option on import or set low_memory=False.\n",
      "  exec(code_obj, self.user_global_ns, self.user_ns)\n"
     ]
    },
    {
     "data": {
      "text/plain": [
       "(0.04686373467916366,\n",
       " 0.5082912761355444,\n",
       " 0.23071377072819033,\n",
       " 0.23143475126171592)"
      ]
     },
     "execution_count": 37,
     "metadata": {},
     "output_type": "execute_result"
    }
   ],
   "source": [
    "# 2018 physician integrating status\n",
    "X_2018 = get_X_pred(pred_year=2018, with_claims=False)\n",
    "\n",
    "# Predict y using SVM, DT, KNN and RF\n",
    "y_svm_2018 = list(svm_clf.predict(X_2018).astype(int))\n",
    "y_dt_2018 = list(dt_clf.predict(X_2018).astype(int))\n",
    "y_knn_2018 = list(knn_clf.predict(X_2018).astype(int))\n",
    "y_rf_2018 = list(rf_clf.predict(X_2018).astype(int))\n",
    "\n",
    "# Compute the percentages of physicians that integrated for each method \n",
    "np.mean(y_svm_2018), np.mean(y_dt_2018), np.mean(y_knn_2018), np.mean(y_rf_2018)"
   ]
  },
  {
   "cell_type": "code",
   "execution_count": 38,
   "metadata": {},
   "outputs": [
    {
     "data": {
      "text/plain": [
       "(189, 186, 235, 1387)"
      ]
     },
     "execution_count": 38,
     "metadata": {},
     "output_type": "execute_result"
    }
   ],
   "source": [
    "# Sample sizes for each year\n",
    "# i.e. numbers of physicians to be predicted their integration state\n",
    "X_2015.shape[0], X_2016.shape[0], X_2017.shape[0], X_2018.shape[0]"
   ]
  },
  {
   "cell_type": "markdown",
   "metadata": {},
   "source": [
    "### Plot integration trend"
   ]
  },
  {
   "cell_type": "code",
   "execution_count": 39,
   "metadata": {},
   "outputs": [],
   "source": [
    "year_list = ['2015', '2016', '2017', '2018']\n",
    "\n",
    "# Create lists of percentages to be plotted\n",
    "SVM_pct = [round(np.mean(y_svm_2015)*100, 2), round(np.mean(y_svm_2016)*100, 2),\n",
    "           round(np.mean(y_svm_2017)*100, 2), round(np.mean(y_svm_2018)*100, 2)]\n",
    "DT_pct = [round(np.mean(y_dt_2015)*100, 2), round(np.mean(y_dt_2016)*100, 2),\n",
    "           round(np.mean(y_dt_2017)*100, 2), round(np.mean(y_dt_2018)*100, 2)]\n",
    "KNN_pct = [round(np.mean(y_knn_2015)*100, 2), round(np.mean(y_knn_2016)*100, 2),\n",
    "           round(np.mean(y_knn_2017)*100, 2), round(np.mean(y_knn_2018)*100, 2)]\n",
    "RF_pct = [round(np.mean(y_rf_2015)*100, 2), round(np.mean(y_rf_2016)*100, 2),\n",
    "           round(np.mean(y_rf_2017)*100, 2), round(np.mean(y_rf_2018)*100, 2)]"
   ]
  },
  {
   "cell_type": "code",
   "execution_count": 40,
   "metadata": {},
   "outputs": [],
   "source": [
    "def add_label(x, y):\n",
    "    # Add label for each point\n",
    "    for a, b in zip(x, y):\n",
    "        plt.text(a, b, '%.2f'%b, ha='center', va= 'bottom', fontsize=12)"
   ]
  },
  {
   "cell_type": "code",
   "execution_count": 41,
   "metadata": {},
   "outputs": [
    {
     "data": {
      "image/png": "[encoded data removed]",
      "text/plain": [
       "<Figure size 864x576 with 1 Axes>"
      ]
     },
     "metadata": {
      "needs_background": "light"
     },
     "output_type": "display_data"
    }
   ],
   "source": [
    "# Create a figure to show the predicted integration trend\n",
    "plt.figure(figsize=(12,8))\n",
    "plt.plot(year_list,SVM_pct,label='SVM',linewidth=2,color='c',marker='o',markerfacecolor='blue',markersize=5)\n",
    "plt.plot(year_list,DT_pct,label='DT',linewidth=2,color='m',marker='o',markerfacecolor='blue',markersize=5)\n",
    "plt.plot(year_list,KNN_pct,label='KNN',linewidth=2,color='g',marker='o',markerfacecolor='blue',markersize=5)\n",
    "plt.plot(year_list,RF_pct,label='RF',linewidth=2,color='r',marker='o',markerfacecolor='blue',markersize=5)\n",
    "add_label(year_list,SVM_pct)\n",
    "add_label(year_list,DT_pct)\n",
    "add_label(year_list,KNN_pct)\n",
    "add_label(year_list,RF_pct)\n",
    "plt.xlabel('Year', fontsize=16)\n",
    "plt.ylabel('Percentage of integration(%)', fontsize=16)\n",
    "plt.ylim([0, 65])\n",
    "plt.title('Integration trend', fontsize=20)\n",
    "plt.legend()\n",
    "plt.show()"
   ]
  },
  {
   "cell_type": "code",
   "execution_count": 42,
   "metadata": {},
   "outputs": [
    {
     "name": "stdout",
     "output_type": "stream",
     "text": [
      "Compute coincidence rate for KNN and RF\n"
     ]
    },
    {
     "data": {
      "text/plain": [
       "(0.8412698412698413, 0.8548387096774194, 0.8595744680851064, 0.882480173035328)"
      ]
     },
     "execution_count": 42,
     "metadata": {},
     "output_type": "execute_result"
    }
   ],
   "source": [
    "print('Compute coincidence rate for KNN and RF: ')\n",
    "\n",
    "accuracy_score(y_knn_2015, y_rf_2015), accuracy_score(y_knn_2016, y_rf_2016), accuracy_score(y_knn_2017, y_rf_2017), accuracy_score(y_knn_2018, y_rf_2018)"
   ]
  }
 ],
 "metadata": {
  "kernelspec": {
   "display_name": "Python 3",
   "language": "python",
   "name": "python3"
  },
  "language_info": {
   "codemirror_mode": {
    "name": "ipython",
    "version": 3
   },
   "file_extension": ".py",
   "mimetype": "text/x-python",
   "name": "python",
   "nbconvert_exporter": "python",
   "pygments_lexer": "ipython3",
   "version": "3.8.3"
  }
 },
 "nbformat": 4,
 "nbformat_minor": 4
}
